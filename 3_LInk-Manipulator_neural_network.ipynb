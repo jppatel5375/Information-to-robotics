{
  "nbformat": 4,
  "nbformat_minor": 0,
  "metadata": {
    "colab": {
      "name": "3_link_manipulator_neural_network.ipynb",
      "provenance": []
    },
    "kernelspec": {
      "display_name": "Python 3",
      "language": "python",
      "name": "python3"
    },
    "language_info": {
      "codemirror_mode": {
        "name": "ipython",
        "version": 3
      },
      "file_extension": ".py",
      "mimetype": "text/x-python",
      "name": "python",
      "nbconvert_exporter": "python",
      "pygments_lexer": "ipython3",
      "version": "3.8.5"
    }
  },
  "cells": [
    {
      "cell_type": "code",
      "metadata": {
        "id": "aWprP5u0NymD"
      },
      "source": [
        "import pandas as pd\n",
        "import math\n",
        "import random\n",
        "import matplotlib.pyplot as plt\n",
        "from sklearn.model_selection import train_test_split\n",
        "from keras import models\n",
        "from keras import layers\n",
        "from keras import regularizers\n",
        "import numpy as np"
      ],
      "execution_count": 1,
      "outputs": []
    },
    {
      "cell_type": "code",
      "metadata": {
        "id": "c1WfsiocNz-S"
      },
      "source": [
        "l1 = l2 = l3 = 7"
      ],
      "execution_count": 2,
      "outputs": []
    },
    {
      "cell_type": "code",
      "metadata": {
        "id": "8gYDuyTjN1do"
      },
      "source": [
        "## Generating dataset for training\n",
        "\n",
        "def three_link_manipulator_dataset():\n",
        "    rows = []\n",
        "    for i in range(1, 100000):\n",
        "        theta1 = round(random.uniform(0, math.pi), 2)\n",
        "        theta2 = round(random.uniform(-math.pi, 0), 2)\n",
        "        theta3 = round(random.uniform(-math.pi/2, math.pi/2), 2)\n",
        "        \n",
        "        x = round(l1*math.cos(theta1)+l2*math.cos(theta1+theta2)+l3*math.cos(theta1+theta2+theta3), 2)\n",
        "        y = round(l1*math.sin(theta1)+l2*math.sin(theta1+theta2)+l3*math.sin(theta1+theta2+theta3), 2)\n",
        "        phi = round(math.degrees(theta1)+math.degrees(theta2)+math.degrees(theta3), 2)\n",
        "        \n",
        "        rows.append([theta1, theta2, theta3, x, y, phi])\n",
        "\n",
        "    df = pd.DataFrame(rows, columns=['theta1', 'theta2', 'theta3', 'x', 'y', 'phi'])\n",
        "    df.to_csv('three_link.csv', index=False)\n",
        "    \n",
        "three_link_manipulator_dataset()"
      ],
      "execution_count": 3,
      "outputs": []
    },
    {
      "cell_type": "code",
      "metadata": {
        "colab": {
          "base_uri": "https://localhost:8080/",
          "height": 198
        },
        "id": "3RBpYrFRN5Ir",
        "outputId": "db6a1213-b6a8-4ea9-b45a-a544e355f7e5"
      },
      "source": [
        "three_link_data = pd.read_csv('three_link.csv')\n",
        "three_link_data.head()"
      ],
      "execution_count": 4,
      "outputs": [
        {
          "output_type": "execute_result",
          "data": {
            "text/html": [
              "<div>\n",
              "<style scoped>\n",
              "    .dataframe tbody tr th:only-of-type {\n",
              "        vertical-align: middle;\n",
              "    }\n",
              "\n",
              "    .dataframe tbody tr th {\n",
              "        vertical-align: top;\n",
              "    }\n",
              "\n",
              "    .dataframe thead th {\n",
              "        text-align: right;\n",
              "    }\n",
              "</style>\n",
              "<table border=\"1\" class=\"dataframe\">\n",
              "  <thead>\n",
              "    <tr style=\"text-align: right;\">\n",
              "      <th></th>\n",
              "      <th>theta1</th>\n",
              "      <th>theta2</th>\n",
              "      <th>theta3</th>\n",
              "      <th>x</th>\n",
              "      <th>y</th>\n",
              "      <th>phi</th>\n",
              "    </tr>\n",
              "  </thead>\n",
              "  <tbody>\n",
              "    <tr>\n",
              "      <th>0</th>\n",
              "      <td>1.72</td>\n",
              "      <td>-2.36</td>\n",
              "      <td>-1.02</td>\n",
              "      <td>3.95</td>\n",
              "      <td>-4.23</td>\n",
              "      <td>-95.11</td>\n",
              "    </tr>\n",
              "    <tr>\n",
              "      <th>1</th>\n",
              "      <td>0.08</td>\n",
              "      <td>-0.99</td>\n",
              "      <td>-1.51</td>\n",
              "      <td>6.02</td>\n",
              "      <td>-9.59</td>\n",
              "      <td>-138.66</td>\n",
              "    </tr>\n",
              "    <tr>\n",
              "      <th>2</th>\n",
              "      <td>0.20</td>\n",
              "      <td>-3.10</td>\n",
              "      <td>-1.24</td>\n",
              "      <td>-3.73</td>\n",
              "      <td>5.60</td>\n",
              "      <td>-237.20</td>\n",
              "    </tr>\n",
              "    <tr>\n",
              "      <th>3</th>\n",
              "      <td>0.07</td>\n",
              "      <td>-0.63</td>\n",
              "      <td>-1.50</td>\n",
              "      <td>9.62</td>\n",
              "      <td>-9.41</td>\n",
              "      <td>-118.03</td>\n",
              "    </tr>\n",
              "    <tr>\n",
              "      <th>4</th>\n",
              "      <td>1.17</td>\n",
              "      <td>-2.13</td>\n",
              "      <td>1.21</td>\n",
              "      <td>13.53</td>\n",
              "      <td>2.44</td>\n",
              "      <td>14.32</td>\n",
              "    </tr>\n",
              "  </tbody>\n",
              "</table>\n",
              "</div>"
            ],
            "text/plain": [
              "   theta1  theta2  theta3      x     y     phi\n",
              "0    1.72   -2.36   -1.02   3.95 -4.23  -95.11\n",
              "1    0.08   -0.99   -1.51   6.02 -9.59 -138.66\n",
              "2    0.20   -3.10   -1.24  -3.73  5.60 -237.20\n",
              "3    0.07   -0.63   -1.50   9.62 -9.41 -118.03\n",
              "4    1.17   -2.13    1.21  13.53  2.44   14.32"
            ]
          },
          "metadata": {
            "tags": []
          },
          "execution_count": 4
        }
      ]
    },
    {
      "cell_type": "code",
      "metadata": {
        "colab": {
          "base_uri": "https://localhost:8080/",
          "height": 265
        },
        "id": "GtS_5sBaN9r_",
        "outputId": "8e1b2841-637b-4832-e201-83904d557f5e"
      },
      "source": [
        "plt.scatter(three_link_data['x'], three_link_data['y'])\n",
        "plt.show()"
      ],
      "execution_count": 5,
      "outputs": [
        {
          "output_type": "display_data",
          "data": {
            "image/png": "[encoded data removed]",
            "text/plain": [
              "<Figure size 432x288 with 1 Axes>"
            ]
          },
          "metadata": {
            "tags": [],
            "needs_background": "light"
          }
        }
      ]
    },
    {
      "cell_type": "code",
      "metadata": {
        "id": "B1gupLqyN_0Z"
      },
      "source": [
        "# Splitting training and testing dataset\n",
        "X = three_link_data[['x', 'y', 'phi']]\n",
        "y = three_link_data[['theta1', 'theta2', 'theta3']]\n",
        "train_X, test_X, train_y, test_y = train_test_split(X, y, test_size=0.1)"
      ],
      "execution_count": 6,
      "outputs": []
    },
    {
      "cell_type": "code",
      "metadata": {
        "colab": {
          "base_uri": "https://localhost:8080/"
        },
        "id": "JYAMcXxXOBrg",
        "outputId": "8427c3ed-14e7-4c52-f324-f9a47ba3083f"
      },
      "source": [
        "# Defining model\n",
        "\n",
        "model = models.Sequential()\n",
        "model.add(layers.Dense(units=3, input_dim=3, kernel_initializer='uniform'))\n",
        "model.add(layers.Dense(units=100, kernel_initializer='uniform', activation='relu'))\n",
        "model.add(layers.Dense(units=100, kernel_initializer='uniform', activation='relu'))\n",
        "model.add(layers.Dense(units=3, kernel_initializer = 'uniform', activation='linear'))\n",
        "\n",
        "model.summary()"
      ],
      "execution_count": 7,
      "outputs": [
        {
          "output_type": "stream",
          "text": [
            "Model: \"sequential\"\n",
            "_________________________________________________________________\n",
            "Layer (type)                 Output Shape              Param #   \n",
            "=================================================================\n",
            "dense (Dense)                (None, 3)                 12        \n",
            "_________________________________________________________________\n",
            "dense_1 (Dense)              (None, 100)               400       \n",
            "_________________________________________________________________\n",
            "dense_2 (Dense)              (None, 100)               10100     \n",
            "_________________________________________________________________\n",
            "dense_3 (Dense)              (None, 3)                 303       \n",
            "=================================================================\n",
            "Total params: 10,815\n",
            "Trainable params: 10,815\n",
            "Non-trainable params: 0\n",
            "_________________________________________________________________\n"
          ],
          "name": "stdout"
        }
      ]
    },
    {
      "cell_type": "code",
      "metadata": {
        "id": "h-VQYVlZOEa0"
      },
      "source": [
        "model.compile(optimizer='adam', loss='mean_squared_error', metrics=['accuracy'])"
      ],
      "execution_count": 8,
      "outputs": []
    },
    {
      "cell_type": "code",
      "metadata": {
        "colab": {
          "base_uri": "https://localhost:8080/"
        },
        "id": "sOjBwo9oOGf5",
        "outputId": "7a7d9a60-0e1b-44b2-a212-e0d1d4069894"
      },
      "source": [
        "# Training model\n",
        "\n",
        "history = model.fit(train_X, train_y, epochs=30, validation_split=0.1, shuffle=True)"
      ],
      "execution_count": 9,
      "outputs": [
        {
          "output_type": "stream",
          "text": [
            "Epoch 1/30\n",
            "2532/2532 [==============================] - 6s 2ms/step - loss: 0.4411 - accuracy: 0.9032 - val_loss: 0.0401 - val_accuracy: 0.9641\n",
            "Epoch 2/30\n",
            "2532/2532 [==============================] - 4s 2ms/step - loss: 0.0384 - accuracy: 0.9620 - val_loss: 0.0276 - val_accuracy: 0.9729\n",
            "Epoch 3/30\n",
            "2532/2532 [==============================] - 4s 2ms/step - loss: 0.0274 - accuracy: 0.9648 - val_loss: 0.0213 - val_accuracy: 0.9677\n",
            "Epoch 4/30\n",
            "2532/2532 [==============================] - 5s 2ms/step - loss: 0.0220 - accuracy: 0.9709 - val_loss: 0.0208 - val_accuracy: 0.9699\n",
            "Epoch 5/30\n",
            "2532/2532 [==============================] - 5s 2ms/step - loss: 0.0193 - accuracy: 0.9743 - val_loss: 0.0244 - val_accuracy: 0.9711\n",
            "Epoch 6/30\n",
            "2532/2532 [==============================] - 5s 2ms/step - loss: 0.0182 - accuracy: 0.9752 - val_loss: 0.0167 - val_accuracy: 0.9709\n",
            "Epoch 7/30\n",
            "2532/2532 [==============================] - 5s 2ms/step - loss: 0.0179 - accuracy: 0.9764 - val_loss: 0.0177 - val_accuracy: 0.9820\n",
            "Epoch 8/30\n",
            "2532/2532 [==============================] - 4s 2ms/step - loss: 0.0161 - accuracy: 0.9784 - val_loss: 0.0124 - val_accuracy: 0.9806\n",
            "Epoch 9/30\n",
            "2532/2532 [==============================] - 4s 2ms/step - loss: 0.0149 - accuracy: 0.9787 - val_loss: 0.0132 - val_accuracy: 0.9834\n",
            "Epoch 10/30\n",
            "2532/2532 [==============================] - 4s 2ms/step - loss: 0.0143 - accuracy: 0.9802 - val_loss: 0.0154 - val_accuracy: 0.9772\n",
            "Epoch 11/30\n",
            "2532/2532 [==============================] - 4s 2ms/step - loss: 0.0150 - accuracy: 0.9799 - val_loss: 0.0144 - val_accuracy: 0.9756\n",
            "Epoch 12/30\n",
            "2532/2532 [==============================] - 4s 2ms/step - loss: 0.0152 - accuracy: 0.9808 - val_loss: 0.0141 - val_accuracy: 0.9760\n",
            "Epoch 13/30\n",
            "2532/2532 [==============================] - 5s 2ms/step - loss: 0.0133 - accuracy: 0.9814 - val_loss: 0.0135 - val_accuracy: 0.9787\n",
            "Epoch 14/30\n",
            "2532/2532 [==============================] - 4s 2ms/step - loss: 0.0132 - accuracy: 0.9826 - val_loss: 0.0133 - val_accuracy: 0.9880\n",
            "Epoch 15/30\n",
            "2532/2532 [==============================] - 5s 2ms/step - loss: 0.0138 - accuracy: 0.9814 - val_loss: 0.0122 - val_accuracy: 0.9860\n",
            "Epoch 16/30\n",
            "2532/2532 [==============================] - 4s 2ms/step - loss: 0.0136 - accuracy: 0.9805 - val_loss: 0.0093 - val_accuracy: 0.9857\n",
            "Epoch 17/30\n",
            "2532/2532 [==============================] - 4s 2ms/step - loss: 0.0117 - accuracy: 0.9836 - val_loss: 0.0110 - val_accuracy: 0.9842\n",
            "Epoch 18/30\n",
            "2532/2532 [==============================] - 5s 2ms/step - loss: 0.0124 - accuracy: 0.9815 - val_loss: 0.0115 - val_accuracy: 0.9838\n",
            "Epoch 19/30\n",
            "2532/2532 [==============================] - 4s 2ms/step - loss: 0.0125 - accuracy: 0.9826 - val_loss: 0.0148 - val_accuracy: 0.9896\n",
            "Epoch 20/30\n",
            "2532/2532 [==============================] - 4s 2ms/step - loss: 0.0122 - accuracy: 0.9834 - val_loss: 0.0095 - val_accuracy: 0.9807\n",
            "Epoch 21/30\n",
            "2532/2532 [==============================] - 4s 2ms/step - loss: 0.0127 - accuracy: 0.9830 - val_loss: 0.0113 - val_accuracy: 0.9847\n",
            "Epoch 22/30\n",
            "2532/2532 [==============================] - 4s 2ms/step - loss: 0.0121 - accuracy: 0.9829 - val_loss: 0.0112 - val_accuracy: 0.9810\n",
            "Epoch 23/30\n",
            "2532/2532 [==============================] - 4s 2ms/step - loss: 0.0117 - accuracy: 0.9827 - val_loss: 0.0081 - val_accuracy: 0.9897\n",
            "Epoch 24/30\n",
            "2532/2532 [==============================] - 4s 2ms/step - loss: 0.0113 - accuracy: 0.9842 - val_loss: 0.0090 - val_accuracy: 0.9871\n",
            "Epoch 25/30\n",
            "2532/2532 [==============================] - 4s 2ms/step - loss: 0.0115 - accuracy: 0.9842 - val_loss: 0.0119 - val_accuracy: 0.9886\n",
            "Epoch 26/30\n",
            "2532/2532 [==============================] - 4s 2ms/step - loss: 0.0116 - accuracy: 0.9841 - val_loss: 0.0129 - val_accuracy: 0.9821\n",
            "Epoch 27/30\n",
            "2532/2532 [==============================] - 4s 2ms/step - loss: 0.0116 - accuracy: 0.9834 - val_loss: 0.0150 - val_accuracy: 0.9878\n",
            "Epoch 28/30\n",
            "2532/2532 [==============================] - 4s 2ms/step - loss: 0.0112 - accuracy: 0.9838 - val_loss: 0.0143 - val_accuracy: 0.9826\n",
            "Epoch 29/30\n",
            "2532/2532 [==============================] - 5s 2ms/step - loss: 0.0114 - accuracy: 0.9830 - val_loss: 0.0156 - val_accuracy: 0.9818\n",
            "Epoch 30/30\n",
            "2532/2532 [==============================] - 5s 2ms/step - loss: 0.0115 - accuracy: 0.9830 - val_loss: 0.0069 - val_accuracy: 0.9902\n"
          ],
          "name": "stdout"
        }
      ]
    },
    {
      "cell_type": "code",
      "metadata": {
        "colab": {
          "base_uri": "https://localhost:8080/",
          "height": 295
        },
        "id": "0LEm7MV7OKFP",
        "outputId": "cdf3839b-7e8d-4025-d084-0189363129eb"
      },
      "source": [
        "# Plotting model accuracy\n",
        "\n",
        "plt.plot(history.history['accuracy'])\n",
        "plt.plot(history.history['val_accuracy'])\n",
        "plt.title('model accuracy')\n",
        "plt.ylabel('accuracy')\n",
        "plt.xlabel('epoch')\n",
        "plt.legend(['train', 'val'], loc='upper left')\n",
        "plt.show()"
      ],
      "execution_count": 10,
      "outputs": [
        {
          "output_type": "display_data",
          "data": {
            "image/png": "[encoded data removed]",
            "text/plain": [
              "<Figure size 432x288 with 1 Axes>"
            ]
          },
          "metadata": {
            "tags": [],
            "needs_background": "light"
          }
        }
      ]
    },
    {
      "cell_type": "code",
      "metadata": {
        "colab": {
          "base_uri": "https://localhost:8080/",
          "height": 295
        },
        "id": "RZud03ziOpHo",
        "outputId": "577d9a4a-d5bc-45b5-9309-484a9678c7e8"
      },
      "source": [
        "# Plotting model loss\n",
        "\n",
        "plt.plot(history.history['loss'])\n",
        "plt.plot(history.history['val_loss'])\n",
        "plt.title('model loss')\n",
        "plt.ylabel('loss')\n",
        "plt.xlabel('epoch')\n",
        "plt.legend(['train', 'val'], loc='upper left')\n",
        "plt.show()"
      ],
      "execution_count": 11,
      "outputs": [
        {
          "output_type": "display_data",
          "data": {
            "image/png": "[encoded data removed]",
            "text/plain": [
              "<Figure size 432x288 with 1 Axes>"
            ]
          },
          "metadata": {
            "tags": [],
            "needs_background": "light"
          }
        }
      ]
    },
    {
      "cell_type": "code",
      "metadata": {
        "colab": {
          "base_uri": "https://localhost:8080/"
        },
        "id": "xCpOOHHsOrVg",
        "outputId": "8a7cc8d1-88ca-477f-addb-24b1102ff917"
      },
      "source": [
        "\n",
        "# Evaluating the model on test set\n",
        "\n",
        "test_loss, test_acc = model.evaluate(test_X, test_y)\n",
        "\n",
        "print('\\nTesting Loss = ', test_loss) \n",
        "print('Testing Accuracy = ', test_acc)"
      ],
      "execution_count": 12,
      "outputs": [
        {
          "output_type": "stream",
          "text": [
            "313/313 [==============================] - 0s 1ms/step - loss: 0.0077 - accuracy: 0.9875\n",
            "\n",
            "Testing Loss =  0.007715302053838968\n",
            "Testing Accuracy =  0.987500011920929\n"
          ],
          "name": "stdout"
        }
      ]
    },
    {
      "cell_type": "code",
      "metadata": {
        "colab": {
          "base_uri": "https://localhost:8080/"
        },
        "id": "LBWguSt0OvU6",
        "outputId": "09e9ae02-0ebd-4f9e-c1ed-9b5b7f4622c5"
      },
      "source": [
        "!pip install -q ann_visualizer\n",
        "\n",
        "from ann_visualizer.visualize import ann_viz;\n",
        "ann_viz(model, title=\"3-link manipulator neural network\")"
      ],
      "execution_count": 13,
      "outputs": [
        {
          "output_type": "stream",
          "text": [
            "  Building wheel for ann-visualizer (setup.py) ... \u001b[?25l\u001b[?25hdone\n"
          ],
          "name": "stdout"
        }
      ]
    },
    {
      "cell_type": "code",
      "metadata": {
        "id": "vgqCfwYrOxxJ"
      },
      "source": [
        "def iiitm_dataset():\n",
        "    rows = []\n",
        "\n",
        "    # for I\n",
        "    arr = np.linspace(5, 7, 100)\n",
        "    for y in arr:\n",
        "        x = 6\n",
        "        theta = math.degrees(math.atan(y/x))\n",
        "        rows.append([x, y, theta])\n",
        "\n",
        "    # for I\n",
        "    arr = np.linspace(5, 7, 100)\n",
        "    for y in arr:\n",
        "        x = 7\n",
        "        theta = math.degrees(math.atan(y/x))\n",
        "        rows.append([x, y, theta])\n",
        "\n",
        "    # for I\n",
        "    arr = np.linspace(5, 7, 100)\n",
        "    for y in arr:\n",
        "        x = 8\n",
        "        theta = math.degrees(math.atan(y/x))\n",
        "        rows.append([x, y, theta])\n",
        "\n",
        "    # for T\n",
        "    arr = np.linspace(8.5, 10.5, 100)\n",
        "    for x in arr:\n",
        "        y = 7\n",
        "        theta = math.degrees(math.atan(y/x))\n",
        "        rows.append([x, y, theta])\n",
        "\n",
        "    arr = np.linspace(5, 7, 100)\n",
        "    for y in arr:\n",
        "        x = 9.5\n",
        "        theta = math.degrees(math.atan(y/x))\n",
        "        rows.append([x, y, theta])\n",
        "\n",
        "    # for M\n",
        "    arr = np.linspace(5, 7, 100)\n",
        "    for y in arr:\n",
        "        x = 11\n",
        "        theta = math.degrees(math.atan(y/x))\n",
        "        rows.append([x, y, theta])\n",
        "\n",
        "    arr = np.linspace(5, 7, 100)\n",
        "    for y in arr:\n",
        "        x = ((-y)+29)/2\n",
        "        theta = math.degrees(math.atan(y/x))\n",
        "        rows.append([x, y, theta])\n",
        "\n",
        "    arr = np.linspace(5, 7, 100)\n",
        "    for y in arr:\n",
        "        x = ((y)+19)/2\n",
        "        theta = math.degrees(math.atan(y/x))\n",
        "        rows.append([x, y, theta])\n",
        "\n",
        "    arr = np.linspace(5, 7, 100)\n",
        "    for y in arr:\n",
        "        x = 13\n",
        "        theta = math.degrees(math.atan(y/x))\n",
        "        rows.append([x, y, theta])\n",
        "\n",
        "    df = pd.DataFrame(rows, columns=['x', 'y', 'theta'])\n",
        "    df.to_csv('iiitm.csv', index=False)\n",
        "    \n",
        "iiitm_dataset()"
      ],
      "execution_count": 14,
      "outputs": []
    },
    {
      "cell_type": "code",
      "metadata": {
        "id": "VnrWe37cO34L"
      },
      "source": [
        "def three_link_forward_kinematics(theta1, theta2, theta3):\n",
        "    x = (np.cos(theta1)*l1)+(np.cos(theta1+theta2)*l2)+(np.cos(theta1+theta2+theta3)*l3)\n",
        "    y = (np.sin(theta1)*l1)+(np.sin(theta1+theta2)*l2)+(np.sin(theta1+theta2+theta3)*l3)\n",
        "\n",
        "    return x, y"
      ],
      "execution_count": 15,
      "outputs": []
    },
    {
      "cell_type": "code",
      "metadata": {
        "id": "4ZBboPV-O6wW"
      },
      "source": [
        "iiitm_data = pd.read_csv('iiitm.csv')\n",
        "iiitm_predictions = model.predict(iiitm_data.values)\n",
        "x_predictions, y_predictions = three_link_forward_kinematics(iiitm_predictions[:,0], iiitm_predictions[:,1], iiitm_predictions[:,2])"
      ],
      "execution_count": 16,
      "outputs": []
    },
    {
      "cell_type": "code",
      "metadata": {
        "colab": {
          "base_uri": "https://localhost:8080/",
          "height": 761
        },
        "id": "cEbxFD3ZO8n-",
        "outputId": "6a56ee31-2595-4341-c19e-96de570aa5a7"
      },
      "source": [
        "# Original\n",
        "plt.plot(iiitm_data['x'], iiitm_data['y'], 'go')\n",
        "plt.show()\n",
        "\n",
        "# Predicted\n",
        "plt.plot(x_predictions, y_predictions, 'bo')\n",
        "plt.show()\n",
        "\n",
        "# Original and Predicted\n",
        "plt.plot(iiitm_data['x'], iiitm_data['y'], 'go')\n",
        "plt.plot(x_predictions, y_predictions, 'bo')\n",
        "plt.show()"
      ],
      "execution_count": 17,
      "outputs": [
        {
          "output_type": "display_data",
          "data": {
            "image/png": "[encoded data removed]",
            "text/plain": [
              "<Figure size 432x288 with 1 Axes>"
            ]
          },
          "metadata": {
            "tags": [],
            "needs_background": "light"
          }
        },
        {
          "output_type": "display_data",
          "data": {
            "image/png": "[encoded data removed]",
            "text/plain": [
              "<Figure size 432x288 with 1 Axes>"
            ]
          },
          "metadata": {
            "tags": [],
            "needs_background": "light"
          }
        },
        {
          "output_type": "display_data",
          "data": {
            "image/png": "[encoded data removed]",
            "text/plain": [
              "<Figure size 432x288 with 1 Axes>"
            ]
          },
          "metadata": {
            "tags": [],
            "needs_background": "light"
          }
        }
      ]
    },
    {
      "cell_type": "code",
      "metadata": {
        "id": "u805xfz_PAzt"
      },
      "source": [
        ""
      ],
      "execution_count": 17,
      "outputs": []
    }
  ]
}